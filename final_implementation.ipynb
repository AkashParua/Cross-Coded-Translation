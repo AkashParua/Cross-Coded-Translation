{
 "cells": [
  {
   "cell_type": "code",
   "execution_count": 68,
   "metadata": {},
   "outputs": [],
   "source": [
    "import pickle\n",
    "file_path = \"knowledge_base.pkl\"\n",
    "\n",
    "\n",
    "with open(file_path, 'rb') as file:\n",
    "    knowledge_base = pickle.load(file)\n",
    "# loading knowledge base"
   ]
  },
  {
   "cell_type": "code",
   "execution_count": 69,
   "metadata": {},
   "outputs": [
    {
     "data": {
      "text/plain": [
       "{}"
      ]
     },
     "execution_count": 69,
     "metadata": {},
     "output_type": "execute_result"
    }
   ],
   "source": [
    "knowledge_base"
   ]
  },
  {
   "cell_type": "code",
   "execution_count": 2,
   "metadata": {},
   "outputs": [
    {
     "name": "stderr",
     "output_type": "stream",
     "text": [
      "/home/akash/miniconda3/envs/cleantorch/lib/python3.10/site-packages/torch/cuda/__init__.py:546: UserWarning: Can't initialize NVML\n",
      "  warnings.warn(\"Can't initialize NVML\")\n"
     ]
    }
   ],
   "source": [
    "import spacy"
   ]
  },
  {
   "cell_type": "code",
   "execution_count": 8,
   "metadata": {},
   "outputs": [],
   "source": [
    "nlp = spacy.load('en_core_web_sm')"
   ]
  },
  {
   "cell_type": "code",
   "execution_count": 9,
   "metadata": {},
   "outputs": [
    {
     "name": "stderr",
     "output_type": "stream",
     "text": [
      "/home/akash/miniconda3/envs/cleantorch/lib/python3.10/site-packages/tqdm/auto.py:21: TqdmWarning: IProgress not found. Please update jupyter and ipywidgets. See https://ipywidgets.readthedocs.io/en/stable/user_install.html\n",
      "  from .autonotebook import tqdm as notebook_tqdm\n",
      "Special tokens have been added in the vocabulary, make sure the associated word embeddings are fine-tuned or trained.\n"
     ]
    }
   ],
   "source": [
    "from transformers import T5ForConditionalGeneration , AutoTokenizer\n",
    "tokenizer = AutoTokenizer.from_pretrained(\"english_to_hinglish_tokenizer\")\n",
    "model = T5ForConditionalGeneration.from_pretrained(\"my-t5-hinglish-translator\")  "
   ]
  },
  {
   "cell_type": "markdown",
   "metadata": {},
   "source": [
    "# PUT YOU INPUT TEXT HERE #"
   ]
  },
  {
   "cell_type": "code",
   "execution_count": null,
   "metadata": {},
   "outputs": [],
   "source": [
    "sample_passage =\"Hey, bro! The local train was a total nightmare this morning. It was jam-packed, and I barely managed to squeeze in. And you won't believe it, but there was a massive traffic jam at Dadar on my way to the office. It's like everyone decided to hit the road at the same time, yaar.But, you know what, the street food here is killer. I had some amazing vada pav and cutting chai at the stall near the station. Can't beat that taste, right? And my colleagues are planning a get-together at a new rooftop bar in Bandra this Friday. You should totally join us if you're free. It's gonna be a blast\""
   ]
  },
  {
   "cell_type": "code",
   "execution_count": null,
   "metadata": {},
   "outputs": [],
   "source": [
    "doc = nlp(sample_passage)\n",
    "nouns = [token.text for token in doc if token.pos_ == \"NOUN\"]\n",
    "nouns = set(nouns)"
   ]
  },
  {
   "cell_type": "code",
   "execution_count": 37,
   "metadata": {},
   "outputs": [],
   "source": [
    "\n",
    "# words that might be used in their english form\n",
    "sus_en_words = set()\n",
    "def translate(sentence):\n",
    "    sentence = \"Translate English to Hinglish : \" + sentence.strip().lower()\n",
    "    print(f'processing {sentence}.........')\n",
    "    input_ids = tokenizer(sentence , return_tensors=\"pt\").input_ids\n",
    "    outputs = model.generate(input_ids)\n",
    "    output_sentence = tokenizer.decode(outputs[0], skip_special_tokens=True)\n",
    "    print(f'output : {output_sentence}')\n",
    "    words1 = set(sentence.lower().split())\n",
    "    words2 = set(output_sentence.lower().split())\n",
    "\n",
    "    common_words = words1.intersection(words2)\n",
    "    #check whether word is a verb using spacy\n",
    "    for word in common_words:\n",
    "    #checking whether the word is a verb \n",
    "    #too many false positive for verb hence not using it\n",
    "        if word in nouns:\n",
    "            sus_en_words.add(word)\n"
   ]
  },
  {
   "cell_type": "code",
   "execution_count": 26,
   "metadata": {},
   "outputs": [],
   "source": [
    "def process_passage(para):\n",
    "    lines = para.split('.')\n",
    "    for line in lines:\n",
    "        translate(line)\n",
    "    return sus_en_words"
   ]
  },
  {
   "cell_type": "markdown",
   "metadata": {},
   "source": [
    "Put your sample passage here !!!"
   ]
  },
  {
   "cell_type": "code",
   "execution_count": 38,
   "metadata": {},
   "outputs": [
    {
     "name": "stdout",
     "output_type": "stream",
     "text": [
      "processing Translate English to Hinglish : hey, bro! the local train was a total nightmare this morning.........\n"
     ]
    },
    {
     "name": "stderr",
     "output_type": "stream",
     "text": [
      "/home/akash/miniconda3/envs/cleantorch/lib/python3.10/site-packages/transformers/generation/utils.py:1260: UserWarning: Using the model-agnostic default `max_length` (=20) to control the generation length. We recommend setting `max_new_tokens` to control the maximum length of the generation.\n",
      "  warnings.warn(\n"
     ]
    },
    {
     "name": "stdout",
     "output_type": "stream",
     "text": [
      "output : hey, bro! the local train was a total nightmare this morning\n",
      "processing Translate English to Hinglish : it was jam-packed, and i barely managed to squeeze in.........\n",
      "output : jam-packed ko it kare aur i barely managed to squeeze in\n",
      "processing Translate English to Hinglish : and you won't believe it, but there was a massive traffic jam at dadar on my way to the office.........\n",
      "output : kya won't believe it, but there was a massive traffic jam at dadar on\n",
      "processing Translate English to Hinglish : it's like everyone decided to hit the road at the same time, yaar.........\n",
      "output : 's like everyone decided ko hit the road at the same time, yaar\n",
      "processing Translate English to Hinglish : but, you know what, the street food here is killer.........\n",
      "output : but, you know what, the street food here is killer\n",
      "processing Translate English to Hinglish : i had some amazing vada pav and cutting chai at the stall near the station.........\n",
      "output : kya i had some amazing vada pav aur cutting chai at the stall near the\n",
      "processing Translate English to Hinglish : can't beat that taste, right? and my colleagues are planning a get-together at a new rooftop bar in bandra this friday.........\n",
      "output : can't beat ko message karo aur pucho ki? and my https://ts are planning a get\n",
      "processing Translate English to Hinglish : you should totally join us if you're free.........\n",
      "output : kya aap should totally join us ke liye're free hai\n",
      "processing Translate English to Hinglish : it's gonna be a blast.........\n",
      "output : kya's gonna hone wala hai\n"
     ]
    }
   ],
   "source": [
    "en_words = process_passage(sample_passage)"
   ]
  },
  {
   "cell_type": "code",
   "execution_count": 39,
   "metadata": {},
   "outputs": [
    {
     "data": {
      "text/plain": [
       "{'chai',\n",
       " 'food',\n",
       " 'jam',\n",
       " 'killer',\n",
       " 'morning',\n",
       " 'nightmare',\n",
       " 'road',\n",
       " 'stall',\n",
       " 'street',\n",
       " 'traffic',\n",
       " 'train',\n",
       " 'yaar'}"
      ]
     },
     "execution_count": 39,
     "metadata": {},
     "output_type": "execute_result"
    }
   ],
   "source": [
    "en_words"
   ]
  },
  {
   "cell_type": "markdown",
   "metadata": {},
   "source": [
    "## Using google translate API"
   ]
  },
  {
   "cell_type": "code",
   "execution_count": 44,
   "metadata": {},
   "outputs": [
    {
     "name": "stdout",
     "output_type": "stream",
     "text": [
      "None\n",
      "{'data': {'translations': [{'translatedText': 'हैलो वर्ल्ड!'}]}}\n"
     ]
    }
   ],
   "source": [
    "import requests\n",
    "import os\n",
    "from dotenv import load_dotenv\n",
    "load_dotenv()\n",
    "\n",
    "url = \"https://google-translate1.p.rapidapi.com/language/translate/v2\"\n",
    "'''\n",
    "payload = {\n",
    "\t\"q\": \"Hello, world!\",\n",
    "\t\"target\": \"hi\",\n",
    "\t\"source\": \"en\"\n",
    "}\n",
    "'''\n",
    "print(os.getenv('CONTENT'))\n",
    "headers = {\n",
    "\t\"content-type\": os.getenv('CONTENT'),\n",
    "\t\"Accept-Encoding\": os.getenv('ENCODING'),\n",
    "\t\"X-RapidAPI-Key\": os.getenv('RAPIDAPI'),\n",
    "\t\"X-RapidAPI-Host\": os.getenv('HOST')\n",
    "}\n",
    "\n",
    "#response = requests.post(url, data=payload, headers=headers)\n",
    "\n",
    "#print(response.json())"
   ]
  },
  {
   "cell_type": "code",
   "execution_count": 72,
   "metadata": {},
   "outputs": [],
   "source": [
    "def update_knowledgebase(en_words):\n",
    "    for word in en_words:\n",
    "        payload = {\n",
    "            \"q\": word,\n",
    "            \"target\": \"hi\",\n",
    "            \"source\": \"en\"\n",
    "        }\n",
    "        response = requests.post(url, data=payload, headers=headers)\n",
    "        print(response.json())\n",
    "        print(word)\n",
    "        print(response.json()['data']['translations'][0]['translatedText'])\n",
    "        knowledge_base[response.json()['data']['translations'][0]['translatedText']] = word\n",
    "\n",
    "    pickle.dump(knowledge_base, open(file_path, 'wb'))"
   ]
  },
  {
   "cell_type": "code",
   "execution_count": 73,
   "metadata": {},
   "outputs": [
    {
     "name": "stdout",
     "output_type": "stream",
     "text": [
      "{'data': {'translations': [{'translatedText': 'सड़क'}]}}\n",
      "road\n",
      "सड़क\n",
      "{'data': {'translations': [{'translatedText': 'चाय'}]}}\n",
      "chai\n",
      "चाय\n",
      "{'data': {'translations': [{'translatedText': 'ट्रैफ़िक'}]}}\n",
      "traffic\n",
      "ट्रैफ़िक\n",
      "{'data': {'translations': [{'translatedText': 'जाम'}]}}\n",
      "jam\n",
      "जाम\n",
      "{'data': {'translations': [{'translatedText': 'खाना'}]}}\n",
      "food\n",
      "खाना\n",
      "{'data': {'translations': [{'translatedText': 'छोटी दुकान'}]}}\n",
      "stall\n",
      "छोटी दुकान\n",
      "{'data': {'translations': [{'translatedText': 'सुबह'}]}}\n",
      "morning\n",
      "सुबह\n",
      "{'data': {'translations': [{'translatedText': 'बुरा अनुभव'}]}}\n",
      "nightmare\n",
      "बुरा अनुभव\n",
      "{'data': {'translations': [{'translatedText': 'यार'}]}}\n",
      "yaar\n",
      "यार\n",
      "{'data': {'translations': [{'translatedText': 'हत्यारा'}]}}\n",
      "killer\n",
      "हत्यारा\n",
      "{'data': {'translations': [{'translatedText': 'रेलगाड़ी'}]}}\n",
      "train\n",
      "रेलगाड़ी\n",
      "{'data': {'translations': [{'translatedText': 'गली'}]}}\n",
      "street\n",
      "गली\n"
     ]
    }
   ],
   "source": [
    "update_knowledgebase(en_words)"
   ]
  },
  {
   "cell_type": "code",
   "execution_count": 74,
   "metadata": {},
   "outputs": [
    {
     "data": {
      "text/plain": [
       "{'सड़क': 'road',\n",
       " 'चाय': 'chai',\n",
       " 'ट्रैफ़िक': 'traffic',\n",
       " 'जाम': 'jam',\n",
       " 'खाना': 'food',\n",
       " 'छोटी दुकान': 'stall',\n",
       " 'सुबह': 'morning',\n",
       " 'बुरा अनुभव': 'nightmare',\n",
       " 'यार': 'yaar',\n",
       " 'हत्यारा': 'killer',\n",
       " 'रेलगाड़ी': 'train',\n",
       " 'गली': 'street'}"
      ]
     },
     "execution_count": 74,
     "metadata": {},
     "output_type": "execute_result"
    }
   ],
   "source": [
    "knowledge_base"
   ]
  },
  {
   "cell_type": "code",
   "execution_count": 75,
   "metadata": {},
   "outputs": [],
   "source": [
    "#now translating the passage \n",
    "response = requests.post(url, data={\"q\":sample_passage, \"target\": \"hi\", \"source\": \"en\"}, headers=headers)"
   ]
  },
  {
   "cell_type": "code",
   "execution_count": 76,
   "metadata": {},
   "outputs": [],
   "source": [
    "edited_response = response.json()['data']['translations'][0]['translatedText']"
   ]
  },
  {
   "cell_type": "code",
   "execution_count": 77,
   "metadata": {},
   "outputs": [
    {
     "data": {
      "text/plain": [
       "'अरे भाई! आज सुबह लोकल ट्रेन पूरी तरह से एक दुःस्वप्न थी। यह खचाखच भरा हुआ था, और मैं मुश्किल से अंदर जा पाया। और आप इस पर विश्वास नहीं करेंगे, लेकिन मेरे कार्यालय जाने के रास्ते में दादर में भारी ट्रैफिक जाम था। ऐसा लगता है कि सभी ने एक ही समय पर सड़क पर उतरने का फैसला किया है, यार। लेकिन, तुम्हें पता है, यहां का स्ट्रीट फूड जानलेवा है। स्टेशन के पास स्टॉल पर मुझे कुछ अद्भुत वड़ा पाव और कटिंग चाय मिली। उस स्वाद को हरा नहीं सकते, है ना? और मेरे सहकर्मी इस शुक्रवार को बांद्रा में एक नए रूफटॉप बार में एक साथ मिलने की योजना बना रहे हैं। यदि आप स्वतंत्र हैं तो आपको पूरी तरह से हमसे जुड़ना चाहिए। यह एक धमाका होने वाला है'"
      ]
     },
     "execution_count": 77,
     "metadata": {},
     "output_type": "execute_result"
    }
   ],
   "source": [
    "edited_response"
   ]
  },
  {
   "cell_type": "code",
   "execution_count": 84,
   "metadata": {},
   "outputs": [
    {
     "name": "stdout",
     "output_type": "stream",
     "text": [
      "सुबह\n",
      "जाम\n",
      "सड़क\n",
      "चाय\n"
     ]
    }
   ],
   "source": [
    "for word in response.json()['data']['translations'][0]['translatedText'].split():\n",
    "    if word in knowledge_base.keys():\n",
    "        print(word)\n",
    "        edited_response = edited_response.replace(word, knowledge_base[word])"
   ]
  },
  {
   "cell_type": "code",
   "execution_count": 85,
   "metadata": {},
   "outputs": [
    {
     "data": {
      "text/plain": [
       "'अरे भाई! आज morning लोकल ट्रेन पूरी तरह से एक दुःस्वप्न थी। यह खचाखच भरा हुआ था, और मैं मुश्किल से अंदर जा पाया। और आप इस पर विश्वास नहीं करेंगे, लेकिन मेरे कार्यालय जाने के रास्ते में दादर में भारी ट्रैफिक jam था। ऐसा लगता है कि सभी ने एक ही समय पर road पर उतरने का फैसला किया है, यार। लेकिन, तुम्हें पता है, यहां का स्ट्रीट फूड जानलेवा है। स्टेशन के पास स्टॉल पर मुझे कुछ अद्भुत वड़ा पाव और कटिंग chai मिली। उस स्वाद को हरा नहीं सकते, है ना? और मेरे सहकर्मी इस शुक्रवार को बांद्रा में एक नए रूफटॉप बार में एक साथ मिलने की योजना बना रहे हैं। यदि आप स्वतंत्र हैं तो आपको पूरी तरह से हमसे जुड़ना चाहिए। यह एक धमाका होने वाला है'"
      ]
     },
     "execution_count": 85,
     "metadata": {},
     "output_type": "execute_result"
    }
   ],
   "source": [
    "edited_response"
   ]
  }
 ],
 "metadata": {
  "kernelspec": {
   "display_name": "cleantorch",
   "language": "python",
   "name": "python3"
  },
  "language_info": {
   "codemirror_mode": {
    "name": "ipython",
    "version": 3
   },
   "file_extension": ".py",
   "mimetype": "text/x-python",
   "name": "python",
   "nbconvert_exporter": "python",
   "pygments_lexer": "ipython3",
   "version": "3.10.12"
  }
 },
 "nbformat": 4,
 "nbformat_minor": 2
}
